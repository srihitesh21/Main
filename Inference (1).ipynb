{
 "cells": [
  {
   "cell_type": "code",
   "execution_count": 16,
   "metadata": {
    "scrolled": true
   },
   "outputs": [],
   "source": [
    "import numpy as np\n",
    "import pandas as pd\n",
    "import pydicom\n",
    "%matplotlib inline\n",
    "import matplotlib.pyplot as plt\n",
    "import keras \n",
    "from tensorflow.keras.models import Sequential, Model, model_from_json\n",
    "from skimage.transform import resize"
   ]
  },
  {
   "cell_type": "code",
   "execution_count": 17,
   "metadata": {},
   "outputs": [],
   "source": [
    "# This function reads in a .dcm file, checks the important fields for our device, and returns a numpy array\n",
    "# of just the imaging data\n",
    "def check_dicom(filename): \n",
    "    # todo\n",
    "    \n",
    "#     print('Load file {} ...'.format(filename))\n",
    "#     ds = pydicom.dcmread(filename)       \n",
    "#     img = ds.pixel_array\n",
    "    print('Load file {} ...'.format(filename))\n",
    "    ds = pydicom.dcmread(filename)\n",
    "    \n",
    "    print(\"Study Description: {0}\".format(ds.StudyDescription))\n",
    "\n",
    "    print(\"Modality: {0}\".format(ds.Modality))\n",
    "    if ds.Modality != \"DX\":\n",
    "        print(\">> Warning! Modality must be DX. Can't make a prediction.\")\n",
    "    print(\"Patient Sex: {0}\".format(ds.PatientSex))\n",
    "    if ds.PatientSex not in ['M', 'F']:\n",
    "        print(\">> Warning! Unsupported Patient_Sex value in DICOM file.\")\n",
    "    print(\"Body Part Examined: {0}\".format(ds.BodyPartExamined))\n",
    "    if ds.BodyPartExamined != 'CHEST':\n",
    "        print(\">> Warning! Unsupported value for Body_Part_Examined field. Can't make a prediction.\")\n",
    "    print(\"Patient Position: {0}\".format(ds.PatientPosition))\n",
    "    if ds.PatientPosition not in ['AP', 'PA']:\n",
    "        print(\">> Warning! Unsupported value for Patient_Position field. Can't make a prediction.\")\n",
    "    \n",
    "    \n",
    "    img = ds.pixel_array\n",
    "    return img\n",
    "    \n",
    "    \n",
    "# This function takes the numpy array output by check_dicom and \n",
    "# runs the appropriate pre-processing needed for our model input\n",
    "def preprocess_image(img,img_mean,img_std,img_size): \n",
    "    proc_img = ((img/255)-img_mean)/img_std\n",
    "    proc_img = resize(proc_img, img_size)\n",
    "    return proc_img\n",
    "    # todo\n",
    "    \n",
    "    return proc_img\n",
    "\n",
    "# This function loads in our trained model w/ weights and compiles it \n",
    "def load_model(model_path, weight_path):\n",
    "    with open(model_path, 'r') as json_file:\n",
    "        json_savedModel= json_file.read() \n",
    "        \n",
    "    model = model_from_json(json_savedModel)\n",
    "    model.load_weights(weight_path)\n",
    "    # todo\n",
    "    \n",
    "    \n",
    "    return model\n",
    "\n",
    "# This function uses our device's threshold parameters to predict whether or not\n",
    "# the image shows the presence of pneumonia using our trained model\n",
    "def predict_image(model, img, thresh): \n",
    "    pred = model.predict(img)\n",
    "    if pred>thresh:\n",
    "        prediction = 'Pneumonia Positive'\n",
    "    else:\n",
    "        prediction = 'Pneumonia Negative'\n",
    "    \n",
    "    # todo    \n",
    "    \n",
    "    return prediction "
   ]
  },
  {
   "cell_type": "code",
   "execution_count": null,
   "metadata": {},
   "outputs": [],
   "source": []
  },
  {
   "cell_type": "code",
   "execution_count": 18,
   "metadata": {},
   "outputs": [
    {
     "data": {
      "text/plain": [
       "'\\nmodel_path = \"my_model.json\" #path to saved model\\nweight_path = \"xray_class_my_model.best.hdf5\" #path to saved best weights\\n\\nIMG_SIZE=(1,224,224,3) # This might be different if you did not use vgg16\\nimg_mean = 0 # loads the mean image value they used during training preprocessing\\nimg_std =  1 # loads the std dev image value they used during training preprocessing\\n\\nmy_model = load_model(model_path, weight_path) #loads model\\nthresh = 0.6 #loads the threshold they chose for model classification \\n\\n# use the .dcm files to test your prediction\\nfor i in test_dicoms:\\n    \\n    img = np.array([])\\n    img = check_dicom(i)\\n    \\n    if img is None:\\n        continue\\n        \\n    img_proc = preprocess_image(img,img_mean,img_std,IMG_SIZE)\\n    pred = predict_image(my_model,img_proc,thresh)\\n    print(pred)'"
      ]
     },
     "execution_count": 18,
     "metadata": {},
     "output_type": "execute_result"
    }
   ],
   "source": [
    "test_dicoms = ['test1.dcm','test2.dcm','test3.dcm','test4.dcm','test5.dcm','test6.dcm']\n",
    "'''\n",
    "model_path = \"my_model.json\" #path to saved model\n",
    "weight_path = \"xray_class_my_model.best.hdf5\" #path to saved best weights\n",
    "\n",
    "IMG_SIZE=(1,224,224,3) # This might be different if you did not use vgg16\n",
    "img_mean = 0 # loads the mean image value they used during training preprocessing\n",
    "img_std =  1 # loads the std dev image value they used during training preprocessing\n",
    "\n",
    "my_model = load_model(model_path, weight_path) #loads model\n",
    "thresh = 0.6 #loads the threshold they chose for model classification \n",
    "\n",
    "# use the .dcm files to test your prediction\n",
    "for i in test_dicoms:\n",
    "    \n",
    "    img = np.array([])\n",
    "    img = check_dicom(i)\n",
    "    \n",
    "    if img is None:\n",
    "        continue\n",
    "        \n",
    "    img_proc = preprocess_image(img,img_mean,img_std,IMG_SIZE)\n",
    "    pred = predict_image(my_model,img_proc,thresh)\n",
    "    print(pred)'''"
   ]
  },
  {
   "cell_type": "code",
   "execution_count": 19,
   "metadata": {
    "scrolled": true
   },
   "outputs": [
    {
     "name": "stdout",
     "output_type": "stream",
     "text": [
      "Load file test1.dcm ...\n",
      "Study Description: No Finding\n",
      "Modality: DX\n",
      "Patient Sex: M\n",
      "Body Part Examined: CHEST\n",
      "Patient Position: PA\n",
      "Pred:  Pneumonia Positive \n",
      "\n"
     ]
    }
   ],
   "source": [
    "model_path = \"my_model.json\" \n",
    "weight_path = 'out/xray_class_my_model.best.hdf5'\n",
    "my_model = load_model(model_path, weight_path) #loads model\n",
    "IMG_SIZE=(1,224,224,3) # This might be different if you did not use vgg16\n",
    "img_mean = 0 # loads the mean image value they used during training preprocessing\n",
    "img_std =  1 # loads the std dev image value they used during training preprocessing\n",
    "img = check_dicom('test1.dcm')\n",
    "threshold = 0.6\n",
    "img_proc = preprocess_image(img,img_mean, img_std, IMG_SIZE)\n",
    "pred = predict_image(my_model, img_proc, threshold)\n",
    "print('Pred: ', pred, '\\n')\n"
   ]
  },
  {
   "cell_type": "code",
   "execution_count": 20,
   "metadata": {},
   "outputs": [
    {
     "name": "stdout",
     "output_type": "stream",
     "text": [
      "Load file test1.dcm ...\n",
      "Study Description: No Finding\n",
      "Modality: DX\n",
      "Patient Sex: M\n",
      "Body Part Examined: CHEST\n",
      "Patient Position: PA\n",
      "Pred:  Pneumonia Positive \n",
      "\n",
      "Load file test2.dcm ...\n",
      "Study Description: Cardiomegaly\n",
      "Modality: DX\n",
      "Patient Sex: M\n",
      "Body Part Examined: CHEST\n",
      "Patient Position: AP\n",
      "Pred:  Pneumonia Positive \n",
      "\n",
      "Load file test3.dcm ...\n",
      "Study Description: Effusion\n",
      "Modality: DX\n",
      "Patient Sex: M\n",
      "Body Part Examined: CHEST\n",
      "Patient Position: AP\n",
      "Pred:  Pneumonia Positive \n",
      "\n",
      "Load file test4.dcm ...\n",
      "Study Description: No Finding\n",
      "Modality: DX\n",
      "Patient Sex: M\n",
      "Body Part Examined: RIBCAGE\n",
      ">> Warning! Unsupported value for Body_Part_Examined field. Can't make a prediction.\n",
      "Patient Position: PA\n",
      "Pred:  Pneumonia Positive \n",
      "\n",
      "Load file test5.dcm ...\n",
      "Study Description: No Finding\n",
      "Modality: CT\n",
      ">> Warning! Modality must be DX. Can't make a prediction.\n",
      "Patient Sex: M\n",
      "Body Part Examined: CHEST\n",
      "Patient Position: PA\n",
      "Pred:  Pneumonia Positive \n",
      "\n",
      "Load file test6.dcm ...\n",
      "Study Description: No Finding\n",
      "Modality: DX\n",
      "Patient Sex: M\n",
      "Body Part Examined: CHEST\n",
      "Patient Position: XX\n",
      ">> Warning! Unsupported value for Patient_Position field. Can't make a prediction.\n",
      "Pred:  Pneumonia Positive \n",
      "\n"
     ]
    }
   ],
   "source": [
    "for i in test_dicoms:\n",
    "    \n",
    "    img = np.array([])\n",
    "    img = check_dicom(i)\n",
    "    threshold = 0.6\n",
    "    \n",
    "    if img is None:\n",
    "        continue\n",
    "        \n",
    "    img_proc = preprocess_image(img,img_mean,img_std,IMG_SIZE)\n",
    "    \n",
    "    #plt.imshow(img, cmap = 'bone')\n",
    "    \n",
    "    pred = predict_image(my_model,img_proc,threshold)\n",
    "    print('Pred: ', pred, '\\n')"
   ]
  },
  {
   "cell_type": "code",
   "execution_count": null,
   "metadata": {},
   "outputs": [],
   "source": []
  }
 ],
 "metadata": {
  "kernelspec": {
   "display_name": "Python 3",
   "language": "python",
   "name": "python3"
  },
  "language_info": {
   "codemirror_mode": {
    "name": "ipython",
    "version": 3
   },
   "file_extension": ".py",
   "mimetype": "text/x-python",
   "name": "python",
   "nbconvert_exporter": "python",
   "pygments_lexer": "ipython3",
   "version": "3.7.6"
  }
 },
 "nbformat": 4,
 "nbformat_minor": 2
}
